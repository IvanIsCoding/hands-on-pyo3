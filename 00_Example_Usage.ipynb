{
 "cells": [
  {
   "cell_type": "code",
   "execution_count": 1,
   "id": "89e62b42-8175-489f-9cda-652c4e476e0b",
   "metadata": {},
   "outputs": [],
   "source": [
    "import jxl_demo"
   ]
  },
  {
   "cell_type": "code",
   "execution_count": 5,
   "id": "e034d23e-b90c-4919-bbbe-84339ffdbba9",
   "metadata": {},
   "outputs": [],
   "source": [
    "url = \"https://jpegxl.info/images/dice.jxl\""
   ]
  },
  {
   "cell_type": "code",
   "execution_count": 6,
   "id": "cd596a6f-c491-4403-9316-6bce8cc38a93",
   "metadata": {},
   "outputs": [
    {
     "name": "stdout",
     "output_type": "stream",
     "text": [
      "Downloading JPEG XL image...\n"
     ]
    }
   ],
   "source": [
    "import requests\n",
    "print(\"Downloading JPEG XL image...\")\n",
    "response = requests.get(url)\n",
    "response.raise_for_status()  # Check if download was successful\n",
    "\n",
    "# Store as bytes string\n",
    "jxl_bytes = response.content"
   ]
  },
  {
   "cell_type": "code",
   "execution_count": 8,
   "id": "84353097-6d99-4b8c-b09e-dc0f05785cd4",
   "metadata": {},
   "outputs": [
    {
     "ename": "ValueError",
     "evalue": "Failed to create array: ShapeError/IncompatibleShape: incompatible shapes",
     "output_type": "error",
     "traceback": [
      "\u001b[31m---------------------------------------------------------------------------\u001b[39m",
      "\u001b[31mValueError\u001b[39m                                Traceback (most recent call last)",
      "\u001b[36mCell\u001b[39m\u001b[36m \u001b[39m\u001b[32mIn[8]\u001b[39m\u001b[32m, line 1\u001b[39m\n\u001b[32m----> \u001b[39m\u001b[32m1\u001b[39m arr = \u001b[43mjxl_demo\u001b[49m\u001b[43m.\u001b[49m\u001b[43mdecode_jxl_as_array\u001b[49m\u001b[43m(\u001b[49m\u001b[43mjxl_bytes\u001b[49m\u001b[43m)\u001b[49m\n",
      "\u001b[31mValueError\u001b[39m: Failed to create array: ShapeError/IncompatibleShape: incompatible shapes"
     ]
    }
   ],
   "source": [
    "arr = jxl_demo.decode_jxl_as_array(jxl_bytes)"
   ]
  },
  {
   "cell_type": "code",
   "execution_count": null,
   "id": "a89bfe09-da0e-4ff4-9f0d-a42918910174",
   "metadata": {},
   "outputs": [],
   "source": []
  }
 ],
 "metadata": {
  "kernelspec": {
   "display_name": "Python 3 (ipykernel)",
   "language": "python",
   "name": "python3"
  },
  "language_info": {
   "codemirror_mode": {
    "name": "ipython",
    "version": 3
   },
   "file_extension": ".py",
   "mimetype": "text/x-python",
   "name": "python",
   "nbconvert_exporter": "python",
   "pygments_lexer": "ipython3",
   "version": "3.12.11"
  }
 },
 "nbformat": 4,
 "nbformat_minor": 5
}

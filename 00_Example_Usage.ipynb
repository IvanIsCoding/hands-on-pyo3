{
 "cells": [
  {
   "cell_type": "code",
   "execution_count": 1,
   "id": "89e62b42-8175-489f-9cda-652c4e476e0b",
   "metadata": {},
   "outputs": [],
   "source": [
    "import jxl_demo"
   ]
  },
  {
   "cell_type": "code",
   "execution_count": 2,
   "id": "e034d23e-b90c-4919-bbbe-84339ffdbba9",
   "metadata": {},
   "outputs": [],
   "source": [
    "url = \"https://jpegxl.info/images/dice-NoJXL.png\""
   ]
  },
  {
   "cell_type": "code",
   "execution_count": 4,
   "id": "cd596a6f-c491-4403-9316-6bce8cc38a93",
   "metadata": {},
   "outputs": [
    {
     "name": "stdout",
     "output_type": "stream",
     "text": [
      "Downloading JPEG XL image...\n"
     ]
    },
    {
     "ename": "HTTPError",
     "evalue": "404 Client Error: Not Found for url: https://raw.githubusercontent.com/libjxl/conformance/main/testcases/lossless_pfm/bike.jxl",
     "output_type": "error",
     "traceback": [
      "\u001b[31m---------------------------------------------------------------------------\u001b[39m",
      "\u001b[31mHTTPError\u001b[39m                                 Traceback (most recent call last)",
      "\u001b[36mCell\u001b[39m\u001b[36m \u001b[39m\u001b[32mIn[4]\u001b[39m\u001b[32m, line 4\u001b[39m\n\u001b[32m      2\u001b[39m \u001b[38;5;28mprint\u001b[39m(\u001b[33m\"\u001b[39m\u001b[33mDownloading JPEG XL image...\u001b[39m\u001b[33m\"\u001b[39m)\n\u001b[32m      3\u001b[39m response = requests.get(url)\n\u001b[32m----> \u001b[39m\u001b[32m4\u001b[39m \u001b[43mresponse\u001b[49m\u001b[43m.\u001b[49m\u001b[43mraise_for_status\u001b[49m\u001b[43m(\u001b[49m\u001b[43m)\u001b[49m  \u001b[38;5;66;03m# Check if download was successful\u001b[39;00m\n\u001b[32m      6\u001b[39m \u001b[38;5;66;03m# Store as bytes string\u001b[39;00m\n\u001b[32m      7\u001b[39m jxl_bytes = response.content\n",
      "\u001b[36mFile \u001b[39m\u001b[32m~/Projects/hands-on-pyo3/.venv/lib/python3.12/site-packages/requests/models.py:1026\u001b[39m, in \u001b[36mResponse.raise_for_status\u001b[39m\u001b[34m(self)\u001b[39m\n\u001b[32m   1021\u001b[39m     http_error_msg = (\n\u001b[32m   1022\u001b[39m         \u001b[33mf\u001b[39m\u001b[33m\"\u001b[39m\u001b[38;5;132;01m{\u001b[39;00m\u001b[38;5;28mself\u001b[39m.status_code\u001b[38;5;132;01m}\u001b[39;00m\u001b[33m Server Error: \u001b[39m\u001b[38;5;132;01m{\u001b[39;00mreason\u001b[38;5;132;01m}\u001b[39;00m\u001b[33m for url: \u001b[39m\u001b[38;5;132;01m{\u001b[39;00m\u001b[38;5;28mself\u001b[39m.url\u001b[38;5;132;01m}\u001b[39;00m\u001b[33m\"\u001b[39m\n\u001b[32m   1023\u001b[39m     )\n\u001b[32m   1025\u001b[39m \u001b[38;5;28;01mif\u001b[39;00m http_error_msg:\n\u001b[32m-> \u001b[39m\u001b[32m1026\u001b[39m     \u001b[38;5;28;01mraise\u001b[39;00m HTTPError(http_error_msg, response=\u001b[38;5;28mself\u001b[39m)\n",
      "\u001b[31mHTTPError\u001b[39m: 404 Client Error: Not Found for url: https://raw.githubusercontent.com/libjxl/conformance/main/testcases/lossless_pfm/bike.jxl"
     ]
    }
   ],
   "source": [
    "import requests\n",
    "print(\"Downloading JPEG XL image...\")\n",
    "response = requests.get(url)\n",
    "response.raise_for_status()  # Check if download was successful\n",
    "\n",
    "# Store as bytes string\n",
    "jxl_bytes = response.content"
   ]
  },
  {
   "cell_type": "code",
   "execution_count": null,
   "id": "84353097-6d99-4b8c-b09e-dc0f05785cd4",
   "metadata": {},
   "outputs": [],
   "source": []
  }
 ],
 "metadata": {
  "kernelspec": {
   "display_name": "Python 3 (ipykernel)",
   "language": "python",
   "name": "python3"
  },
  "language_info": {
   "codemirror_mode": {
    "name": "ipython",
    "version": 3
   },
   "file_extension": ".py",
   "mimetype": "text/x-python",
   "name": "python",
   "nbconvert_exporter": "python",
   "pygments_lexer": "ipython3",
   "version": "3.12.11"
  }
 },
 "nbformat": 4,
 "nbformat_minor": 5
}
